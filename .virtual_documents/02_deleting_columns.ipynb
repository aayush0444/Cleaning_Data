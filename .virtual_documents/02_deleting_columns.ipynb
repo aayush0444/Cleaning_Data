import pandas as pd
import seaborn as sns
import matplotlib.pyplot as plt



df=pd.read_csv('df1_loan.csv')
df.head()


df.shape


df.isnull().sum()


sns.heatmap(df.isnull())
plt.show()


df.drop(columns=['Credit_History'],inplace=True)


df


df.dropna(inplace=True)


df


((500-426)/500)*100



