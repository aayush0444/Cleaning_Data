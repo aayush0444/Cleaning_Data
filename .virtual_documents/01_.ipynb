import pandas as pd
import seaborn as sns
import matplotlib.pyplot as plt
data=pd.read_csv(r"df1_loan.csv")
data.head(5)





data.shape



data.isnull()






(data.isnull().sum()/data.shape[0])*100





(data.isnull().sum().sum()/(data.shape[0]*data.shape[1]))*100







