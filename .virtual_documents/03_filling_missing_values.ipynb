import pandas as pd
import seaborn as sns
import matplotlib.pyplot as plt



df=pd.read_csv('df1_loan.csv')
df.head()


df.info()


df['Gender'].mode()[0]


df['Gender'].fillna(df['Gender'].mode()[0],inplace=True)


df


for i in df.select_dtypes(include='object').columns:
    df[i].fillna(df[i].mode()[0],inplace=True)


df


df.isnull().sum()



